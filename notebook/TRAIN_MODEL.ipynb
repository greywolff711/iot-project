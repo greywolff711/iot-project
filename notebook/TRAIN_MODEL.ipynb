{
 "cells": [
  {
   "cell_type": "code",
   "execution_count": 4,
   "id": "92bd01da",
   "metadata": {},
   "outputs": [
    {
     "name": "stdout",
     "output_type": "stream",
     "text": [
      "Found 376 images belonging to 3 classes.\n",
      "Found 84 images belonging to 3 classes.\n"
     ]
    }
   ],
   "source": [
    "import tensorflow as tf\n",
    "import numpy as np\n",
    "from tensorflow.keras.preprocessing.image import ImageDataGenerator\n",
    "import distutils\n",
    "\n",
    "train_datagen = ImageDataGenerator(\n",
    "    rescale=1./255,\n",
    "    shear_range=0.2,\n",
    "    zoom_range=0.2,\n",
    "    horizontal_flip=True)\n",
    "\n",
    "test_datagen = ImageDataGenerator(rescale=1./255)\n",
    "train_generator = train_datagen.flow_from_directory('D://IOT review//Project//data//train',target_size=(64, 64),color_mode=\"rgb\",batch_size=16,\n",
    "    class_mode='categorical',\n",
    "    shuffle=True,\n",
    "    seed=42)\n",
    "\n",
    "validation_generator = test_datagen.flow_from_directory('D://IOT review//Project//data//validation',target_size=(64, 64),\n",
    "                                                        batch_size=1,class_mode='categorical')"
   ]
  },
  {
   "cell_type": "code",
   "execution_count": 5,
   "id": "a5440863",
   "metadata": {},
   "outputs": [],
   "source": [
    "def create_model():\n",
    "    model = tf.keras.models.Sequential()\n",
    "    model.add(tf.keras.Input(shape=(64,64,3)))\n",
    "    #model.add(tf.keras.layers.BatchNormalization())\n",
    "    model.add(tf.keras.layers.Conv2D(6, (3, 3), padding='same', activation='relu'))\n",
    "    model.add(tf.keras.layers.MaxPooling2D(pool_size=(2, 2)))\n",
    "    model.add(tf.keras.layers.Conv2D(16, (3,3), padding='same', activation='relu'))\n",
    "    model.add(tf.keras.layers.MaxPooling2D(pool_size=(2, 2)))\n",
    "    #model.add(tf.keras.layers.BatchNormalization())\n",
    "    model.add(tf.keras.layers.Conv2D(32, (3,3), padding='same', activation='relu'))\n",
    "    model.add(tf.keras.layers.MaxPooling2D(pool_size=(2, 2), strides=(2,2)))\n",
    "    #model.add(tf.keras.layers.BatchNormalization())\n",
    "    model.add(tf.keras.layers.Conv2D(64, (3,3), padding='same', activation='relu'))\n",
    "    model.add(tf.keras.layers.MaxPooling2D(pool_size=(2, 2), strides=(2,2)))  \n",
    "    model.add(tf.keras.layers.Dropout(0.25))\n",
    "    model.add(tf.keras.layers.Flatten())\n",
    "    model.add(tf.keras.layers.Dense(512))\n",
    "    model.add(tf.keras.layers.Activation('relu'))\n",
    "    model.add(tf.keras.layers.Dropout(0.5))\n",
    "    model.add(tf.keras.layers.Dense(128))\n",
    "    model.add(tf.keras.layers.Activation('relu'))\n",
    "    model.add(tf.keras.layers.Dropout(0.5))\n",
    "    model.add(tf.keras.layers.Dense(64))\n",
    "    model.add(tf.keras.layers.Dropout(0.5))\n",
    "    model.add(tf.keras.layers.Dense(3))\n",
    "    model.add(tf.keras.layers.Activation('softmax'))\n",
    "    return model\n"
   ]
  },
  {
   "cell_type": "code",
   "execution_count": 6,
   "id": "d6b8f2c4",
   "metadata": {},
   "outputs": [
    {
     "name": "stdout",
     "output_type": "stream",
     "text": [
      "Epoch 1/10\n",
      "24/24 [==============================] - 7s 269ms/step - loss: 1.0249 - categorical_accuracy: 0.4628 - val_loss: 0.7088 - val_categorical_accuracy: 0.8452\n",
      "Epoch 2/10\n",
      "24/24 [==============================] - 6s 269ms/step - loss: 0.6285 - categorical_accuracy: 0.7819 - val_loss: 0.2767 - val_categorical_accuracy: 0.8452\n",
      "Epoch 3/10\n",
      "24/24 [==============================] - 6s 248ms/step - loss: 0.4642 - categorical_accuracy: 0.8484 - val_loss: 0.3892 - val_categorical_accuracy: 0.8452\n",
      "Epoch 4/10\n",
      "24/24 [==============================] - 6s 237ms/step - loss: 0.4008 - categorical_accuracy: 0.8670 - val_loss: 0.2187 - val_categorical_accuracy: 0.9286\n",
      "Epoch 5/10\n",
      "24/24 [==============================] - 6s 237ms/step - loss: 0.3577 - categorical_accuracy: 0.9069 - val_loss: 0.2561 - val_categorical_accuracy: 0.9167\n",
      "Epoch 6/10\n",
      "24/24 [==============================] - 6s 233ms/step - loss: 0.3273 - categorical_accuracy: 0.8830 - val_loss: 0.2335 - val_categorical_accuracy: 0.9167\n",
      "Epoch 7/10\n",
      "24/24 [==============================] - 6s 231ms/step - loss: 0.3273 - categorical_accuracy: 0.8936 - val_loss: 0.2299 - val_categorical_accuracy: 0.9286\n",
      "Epoch 8/10\n",
      "24/24 [==============================] - 6s 233ms/step - loss: 0.3593 - categorical_accuracy: 0.8830 - val_loss: 0.2500 - val_categorical_accuracy: 0.9405\n",
      "Epoch 9/10\n",
      "24/24 [==============================] - 6s 243ms/step - loss: 0.3422 - categorical_accuracy: 0.8910 - val_loss: 0.2411 - val_categorical_accuracy: 0.9048\n",
      "Epoch 10/10\n",
      "24/24 [==============================] - 6s 232ms/step - loss: 0.2908 - categorical_accuracy: 0.9016 - val_loss: 0.2749 - val_categorical_accuracy: 0.9048\n"
     ]
    }
   ],
   "source": [
    "model = create_model()\n",
    "model.compile(\n",
    "      optimizer=tf.keras.optimizers.Adam(learning_rate=1e-3),\n",
    "      loss='categorical_crossentropy',\n",
    "      metrics=['categorical_accuracy'])\n",
    "\n",
    "model.fit(\n",
    "    train_generator,\n",
    "    epochs=10,\n",
    "    validation_data=validation_generator,\n",
    "    validation_freq=1\n",
    ")\n",
    "\n",
    "model.save('model.h5', overwrite=True)"
   ]
  },
  {
   "cell_type": "code",
   "execution_count": 7,
   "id": "a3532c82",
   "metadata": {},
   "outputs": [],
   "source": [
    "model.save('model.h5', overwrite=True)"
   ]
  },
  {
   "cell_type": "code",
   "execution_count": null,
   "id": "9c437ebe",
   "metadata": {},
   "outputs": [],
   "source": []
  }
 ],
 "metadata": {
  "kernelspec": {
   "display_name": "Python 3 (ipykernel)",
   "language": "python",
   "name": "python3"
  },
  "language_info": {
   "codemirror_mode": {
    "name": "ipython",
    "version": 3
   },
   "file_extension": ".py",
   "mimetype": "text/x-python",
   "name": "python",
   "nbconvert_exporter": "python",
   "pygments_lexer": "ipython3",
   "version": "3.9.7"
  }
 },
 "nbformat": 4,
 "nbformat_minor": 5
}
